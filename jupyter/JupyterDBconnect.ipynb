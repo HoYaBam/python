{
 "cells": [
  {
   "cell_type": "markdown",
   "metadata": {},
   "source": [
    "# 주피터 활용\n",
    "## 데이터베이스 연동\n",
    "### 1. Anaconda Prompt 실행\n",
    "### -- cx_Oracle 라이브러리 설치\n",
    "### ----> python -m pip install cx_Oracle --upgrade\n",
    "### 2. Oracle Instant Client Download\n",
    "### --  압출 풀고(ex : C:\\instentclient\\instantclient-basic-windows.x64-21.3.0.0.0\\instantclient_21_3)"
   ]
  },
  {
   "cell_type": "code",
   "execution_count": 60,
   "metadata": {},
   "outputs": [
    {
     "name": "stdout",
     "output_type": "stream",
     "text": [
      "('10001', '이강륜', '010-3937-2733', '대전 동구 판암동 123', 'loor237@gmail.com', 'M ', datetime.datetime(1995, 12, 2, 0, 0), 0)\n",
      "('10002', '홍길동', '010-3411-6844', '대전 서구 괴정동 25-13', 'hgd1115@naver.com', 'M ', datetime.datetime(1984, 5, 17, 0, 0), 0)\n",
      "('10003', '김철수', '010-1111-2222', '대전 유성구 구암동', 'kim@naver.com', 'M ', datetime.datetime(1999, 12, 24, 0, 0), 0)\n",
      "('10004', '이무개', '010-1234-5678', '세종 다정동', 'LEE@naver.com', 'W ', datetime.datetime(1993, 6, 17, 0, 0), 0)\n",
      "('10005', '박창우', '010-1234-4567', '대전 유성구 123번길 55', 'hores@naver.com', 'M ', datetime.datetime(1993, 8, 15, 0, 0), 0)\n",
      "('10006', '주영현', '010-1234-1234', '대전 대덕구 송촌동', '1111@gmail.com', 'M ', datetime.datetime(1992, 12, 17, 0, 0), 0)\n",
      "('10007', '김경태', '010-5028-7341', '세종특별자치시 보통1길', 'dmdrk4136@naver.com', 'M ', datetime.datetime(1993, 7, 13, 0, 0), 0)\n",
      "('10008', '유지은', '010-2513-2160', '대전 유성구 구즉로25', 'jeyou-@naver.com', 'W ', datetime.datetime(1996, 3, 15, 0, 0), 0)\n",
      "('10009', '한승훈', '202-456-2121', '1600 Pennsylvania Ave NW, Washington, DC 20500', 'president@whitehouse.gov', 'M ', datetime.datetime(1990, 11, 16, 0, 0), 0)\n",
      "('10010', '임예찬', '010-1234-5678', '서울 강북구', 'dladPcks1234@naver.com', 'W ', datetime.datetime(1995, 5, 5, 0, 0), 0)\n",
      "('10011', '나기원', '010-9936-1390', '대전 유성구 계룡로', 'sexygiwon@naver.com', 'M ', datetime.datetime(2002, 2, 2, 0, 0), 0)\n",
      "('10012', '강동호', '010-9160-9397', '대전 서구 가수원로 98 4동 205호', 'dongho@korea.kr', 'M ', datetime.datetime(1996, 8, 6, 0, 0), 0)\n",
      "('10013', '이나연', '010-1111-2222', '대전 유성구 관평동', 'yeon@naver.com', 'W ', datetime.datetime(1997, 5, 16, 0, 0), 0)\n",
      "('10014', '박지수', '010-2884-6513', '청주시 서원구 수영로 51', 'wltn5582@naver.com', 'M ', datetime.datetime(1997, 7, 20, 0, 0), 0)\n",
      "('10015', '박용배', '010-3440-6899', '대전 중구 오류로 10-13', 'pyb0105@naver.com', 'M ', datetime.datetime(1964, 11, 17, 0, 0), 0)\n",
      "('10016', '이쁜이', None, None, None, 'W ', datetime.datetime(1998, 4, 20, 0, 0), None)\n"
     ]
    }
   ],
   "source": [
    "# PATH 설정\n",
    "import cx_Oracle\n",
    "import os\n",
    "\n",
    "\n",
    "LOCATION = r\"C:\\instentclient\\instantclient-basic-windows.x64-21.3.0.0.0\\instantclient_21_3\"\n",
    "os.environ[\"PATH\"] = LOCATION + \";\" + os.environ[\"PATH\"]\n",
    "\n",
    "# Oracle OB connect 연결\n",
    "# connect = cx_Oracle.connect(\"사용자이름\", \"비밀번호\", \"호스트이름:포트/서비스이름\")\n",
    "# cursor = connection.cursor()\n",
    "\n",
    "# SQL\n",
    "# cursor.execute(\"sql 구문\")\n",
    "\n",
    "connect = cx_Oracle.connect(\"djit\", \"12345\", \"localhost:1521/xe\")\n",
    "cursor = connect.cursor()\n",
    "\n",
    "cursor.execute(\"update customer set addr = '대전 동구 판암동 123' \\\n",
    "                where cust_id = '10001'\")\n",
    "\n",
    "cursor.execute(\"select * from customer\")\n",
    "\n",
    "customer = cursor.fetchall()\n",
    "for cust in customer:\n",
    "    print(cust)\n",
    "    \n",
    "connect.close()"
   ]
  }
 ],
 "metadata": {
  "kernelspec": {
   "display_name": "Python 3",
   "language": "python",
   "name": "python3"
  },
  "language_info": {
   "codemirror_mode": {
    "name": "ipython",
    "version": 3
   },
   "file_extension": ".py",
   "mimetype": "text/x-python",
   "name": "python",
   "nbconvert_exporter": "python",
   "pygments_lexer": "ipython3",
   "version": "3.8.3"
  }
 },
 "nbformat": 4,
 "nbformat_minor": 4
}
