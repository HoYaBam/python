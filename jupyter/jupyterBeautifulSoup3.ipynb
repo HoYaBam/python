{
 "cells": [
  {
   "cell_type": "markdown",
   "metadata": {},
   "source": [
    "# 웹상의 HTML을 가져오는 방법\n",
    "## urlopen & BeautifulSoup 사용\n",
    "### find로 자식, 형제, 부모"
   ]
  },
  {
   "cell_type": "code",
   "execution_count": 8,
   "metadata": {},
   "outputs": [
    {
     "name": "stdout",
     "output_type": "stream",
     "text": [
      "\n",
      "\n",
      "<tr class=\"gift\" id=\"gift1\"><td>\n",
      "Vegetable Basket\n",
      "</td><td>\n",
      "This vegetable basket is the perfect gift for your health conscious (or overweight) friends!\n",
      "<span class=\"excitingNote\">Now with super-colorful bell peppers!</span>\n",
      "</td><td>\n",
      "$15.00\n",
      "</td><td>\n",
      "<img src=\"../img/gifts/img1.jpg\"/>\n",
      "</td></tr>\n",
      "\n",
      "\n",
      "<tr class=\"gift\" id=\"gift2\"><td>\n",
      "Russian Nesting Dolls\n",
      "</td><td>\n",
      "Hand-painted by trained monkeys, these exquisite dolls are priceless! And by \"priceless,\" we mean \"extremely expensive\"! <span class=\"excitingNote\">8 entire dolls per set! Octuple the presents!</span>\n",
      "</td><td>\n",
      "$10,000.52\n",
      "</td><td>\n",
      "<img src=\"../img/gifts/img2.jpg\"/>\n",
      "</td></tr>\n",
      "\n",
      "\n",
      "<tr class=\"gift\" id=\"gift3\"><td>\n",
      "Fish Painting\n",
      "</td><td>\n",
      "If something seems fishy about this painting, it's because it's a fish! <span class=\"excitingNote\">Also hand-painted by trained monkeys!</span>\n",
      "</td><td>\n",
      "$10,005.00\n",
      "</td><td>\n",
      "<img src=\"../img/gifts/img3.jpg\"/>\n",
      "</td></tr>\n",
      "\n",
      "\n",
      "<tr class=\"gift\" id=\"gift4\"><td>\n",
      "Dead Parrot\n",
      "</td><td>\n",
      "This is an ex-parrot! <span class=\"excitingNote\">Or maybe he's only resting?</span>\n",
      "</td><td>\n",
      "$0.50\n",
      "</td><td>\n",
      "<img src=\"../img/gifts/img4.jpg\"/>\n",
      "</td></tr>\n",
      "\n",
      "\n",
      "<tr class=\"gift\" id=\"gift5\"><td>\n",
      "Mystery Box\n",
      "</td><td>\n",
      "If you love suprises, this mystery box is for you! Do not place on light-colored surfaces. May cause oil staining. <span class=\"excitingNote\">Keep your friends guessing!</span>\n",
      "</td><td>\n",
      "$1.50\n",
      "</td><td>\n",
      "<img src=\"../img/gifts/img6.jpg\"/>\n",
      "</td></tr>\n",
      "\n",
      "\n"
     ]
    }
   ],
   "source": [
    "from urllib.request import urlopen\n",
    "from urllib.error import HTTPError\n",
    "from bs4 import BeautifulSoup as bs\n",
    "\n",
    "html = urlopen(\"http://pythonscraping.com/pages/page3.html\")\n",
    "soup = bs(html, 'html.parser')\n",
    "childs = soup.find('table', {'id':'giftList'}).tr.next_siblings #children 자식, next_siblings 형제\n",
    "for ch in childs:\n",
    "    print(ch)\n"
   ]
  },
  {
   "cell_type": "code",
   "execution_count": 123,
   "metadata": {},
   "outputs": [
    {
     "name": "stdout",
     "output_type": "stream",
     "text": [
      "\n",
      "Vegetable Basket\n",
      "\n",
      "\n",
      "Russian Nesting Dolls\n",
      "\n",
      "\n",
      "Fish Painting\n",
      "\n",
      "\n",
      "Dead Parrot\n",
      "\n",
      "\n",
      "Mystery Box\n",
      "\n",
      "-----------------------------------------\n",
      "\n",
      "Vegetable Basket\n",
      "\n",
      "\n",
      "Russian Nesting Dolls\n",
      "\n",
      "\n",
      "Fish Painting\n",
      "\n",
      "\n",
      "Dead Parrot\n",
      "\n",
      "\n",
      "Mystery Box\n",
      "\n"
     ]
    }
   ],
   "source": [
    "from urllib.request import urlopen\n",
    "from urllib.error import HTTPError\n",
    "from bs4 import BeautifulSoup as bs\n",
    "\n",
    "html = urlopen(\"http://pythonscraping.com/pages/page3.html\")\n",
    "soup = bs(html, 'html.parser')\n",
    "\n",
    "#위 페이지 중 Item Title 만 가져오기\n",
    "cnt = soup.findAll('tr',{'class':'gift'})\n",
    "\n",
    "for count in range(1,len(cnt)+1):\n",
    "    childs = soup.find('tr',{'id':'gift'+ str(count)}).td\n",
    "    print(childs.string)\n",
    "\n",
    "print(\"-----------------------------------------\")\n",
    "\n",
    "#선생님이 하신것\n",
    "trList = soup.findAll('tr', '')\n",
    "for tdList in trList:\n",
    "    tdList = tdList.find('td', '')\n",
    "    if tdList is not None:\n",
    "        print(tdList.string)"
   ]
  },
  {
   "cell_type": "code",
   "execution_count": 128,
   "metadata": {},
   "outputs": [
    {
     "name": "stdout",
     "output_type": "stream",
     "text": [
      "\n",
      "$15.00\n",
      "\n"
     ]
    }
   ],
   "source": [
    "from urllib.request import urlopen\n",
    "from urllib.error import HTTPError\n",
    "from bs4 import BeautifulSoup as bs\n",
    "\n",
    "html = urlopen(\"http://pythonscraping.com/pages/page3.html\")\n",
    "soup = bs(html, 'html.parser')\n",
    "print(soup.find('img', {'src' : '../img/gifts/img1.jpg'}).parent.previous_sibling.get_text()) # 부모는 parent\n",
    "# get_text() & string & text 도 가능하다"
   ]
  },
  {
   "cell_type": "code",
   "execution_count": 132,
   "metadata": {},
   "outputs": [
    {
     "name": "stdout",
     "output_type": "stream",
     "text": [
      "../img/gifts/img1.jpg\n",
      "../img/gifts/img2.jpg\n",
      "../img/gifts/img3.jpg\n",
      "../img/gifts/img4.jpg\n",
      "../img/gifts/img6.jpg\n"
     ]
    }
   ],
   "source": [
    "#정규표현식 사용시\n",
    "from urllib.request import urlopen\n",
    "from urllib.error import HTTPError\n",
    "from bs4 import BeautifulSoup as bs\n",
    "import re\n",
    "\n",
    "html = urlopen(\"http://pythonscraping.com/pages/page3.html\")\n",
    "soup = bs(html, 'html.parser')\n",
    "images = soup.findAll('img', {'src': re.compile('\\.\\.\\/img\\/gifts/img.*\\.jpg')})\n",
    "for image in images:\n",
    "    print(image['src'])"
   ]
  },
  {
   "cell_type": "code",
   "execution_count": 159,
   "metadata": {},
   "outputs": [
    {
     "name": "stdout",
     "output_type": "stream",
     "text": [
      "<img src=\"../img/gifts/logo.jpg\" style=\"float:left;\"/>\n",
      "<tr class=\"gift\" id=\"gift1\"><td>\n",
      "Vegetable Basket\n",
      "</td><td>\n",
      "This vegetable basket is the perfect gift for your health conscious (or overweight) friends!\n",
      "<span class=\"excitingNote\">Now with super-colorful bell peppers!</span>\n",
      "</td><td>\n",
      "$15.00\n",
      "</td><td>\n",
      "<img src=\"../img/gifts/img1.jpg\"/>\n",
      "</td></tr>\n",
      "<tr class=\"gift\" id=\"gift2\"><td>\n",
      "Russian Nesting Dolls\n",
      "</td><td>\n",
      "Hand-painted by trained monkeys, these exquisite dolls are priceless! And by \"priceless,\" we mean \"extremely expensive\"! <span class=\"excitingNote\">8 entire dolls per set! Octuple the presents!</span>\n",
      "</td><td>\n",
      "$10,000.52\n",
      "</td><td>\n",
      "<img src=\"../img/gifts/img2.jpg\"/>\n",
      "</td></tr>\n",
      "<tr class=\"gift\" id=\"gift3\"><td>\n",
      "Fish Painting\n",
      "</td><td>\n",
      "If something seems fishy about this painting, it's because it's a fish! <span class=\"excitingNote\">Also hand-painted by trained monkeys!</span>\n",
      "</td><td>\n",
      "$10,005.00\n",
      "</td><td>\n",
      "<img src=\"../img/gifts/img3.jpg\"/>\n",
      "</td></tr>\n",
      "<tr class=\"gift\" id=\"gift4\"><td>\n",
      "Dead Parrot\n",
      "</td><td>\n",
      "This is an ex-parrot! <span class=\"excitingNote\">Or maybe he's only resting?</span>\n",
      "</td><td>\n",
      "$0.50\n",
      "</td><td>\n",
      "<img src=\"../img/gifts/img4.jpg\"/>\n",
      "</td></tr>\n",
      "<tr class=\"gift\" id=\"gift5\"><td>\n",
      "Mystery Box\n",
      "</td><td>\n",
      "If you love suprises, this mystery box is for you! Do not place on light-colored surfaces. May cause oil staining. <span class=\"excitingNote\">Keep your friends guessing!</span>\n",
      "</td><td>\n",
      "$1.50\n",
      "</td><td>\n",
      "<img src=\"../img/gifts/img6.jpg\"/>\n",
      "</td></tr>\n",
      "\n",
      "\n",
      "[<span class=\"excitingNote\">Keep your friends guessing!</span>]\n"
     ]
    }
   ],
   "source": [
    "#람다 사용시\n",
    "from urllib.request import urlopen\n",
    "from urllib.error import HTTPError\n",
    "from bs4 import BeautifulSoup as bs\n",
    "import re\n",
    "\n",
    "html = urlopen(\"http://pythonscraping.com/pages/page3.html\")\n",
    "soup = bs(html, 'html.parser')\n",
    "\n",
    "tagList = soup.findAll(lambda tag : len(tag.attrs) == 2)\n",
    "\n",
    "for tlist in tagList:\n",
    "    print(tlist)\n",
    "    \n",
    "print(\"\\n\")\n",
    "    \n",
    "print(soup.findAll(lambda tag: tag.get_text() == 'Keep your friends guessing!'))"
   ]
  },
  {
   "cell_type": "code",
   "execution_count": 55,
   "metadata": {},
   "outputs": [
    {
     "name": "stdout",
     "output_type": "stream",
     "text": [
      "\n",
      "고민남녀 방백커플\n",
      "\n",
      "\n",
      "칼부림\n",
      "\n",
      "\n",
      "판타지 여동생!\n",
      "\n",
      "\n",
      "아도나이\n",
      "\n",
      "\n",
      "캐슬\n",
      "\n",
      "\n",
      "귀곡의 문\n",
      "\n"
     ]
    }
   ],
   "source": [
    "#네이버 웹툰 text 가져오기\n",
    "from urllib.request import urlopen\n",
    "from urllib.error import HTTPError\n",
    "from bs4 import BeautifulSoup as bs\n",
    "import re\n",
    "\n",
    "html = urlopen(\"https://comic.naver.com/index\")\n",
    "soup = bs(html, 'html.parser')\n",
    "\n",
    "bookList = soup.findAll('div',{'class' : 'genreRecomInfo2'})\n",
    "\n",
    "for blist in bookList:\n",
    "    title = blist.find('h6', {'class':'title'}).a.text\n",
    "    print(title)"
   ]
  }
 ],
 "metadata": {
  "kernelspec": {
   "display_name": "Python 3",
   "language": "python",
   "name": "python3"
  },
  "language_info": {
   "codemirror_mode": {
    "name": "ipython",
    "version": 3
   },
   "file_extension": ".py",
   "mimetype": "text/x-python",
   "name": "python",
   "nbconvert_exporter": "python",
   "pygments_lexer": "ipython3",
   "version": "3.8.3"
  }
 },
 "nbformat": 4,
 "nbformat_minor": 4
}
